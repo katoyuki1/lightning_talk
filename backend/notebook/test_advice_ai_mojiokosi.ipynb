{
 "cells": [
  {
   "cell_type": "code",
   "execution_count": 6,
   "metadata": {},
   "outputs": [
    {
     "name": "stderr",
     "output_type": "stream",
     "text": [
      "/Users/y-kato/workspace/lightning_talk/venv_lightning_talk/lib/python3.11/site-packages/whisper/transcribe.py:126: UserWarning: FP16 is not supported on CPU; using FP32 instead\n",
      "  warnings.warn(\"FP16 is not supported on CPU; using FP32 instead\")\n",
      "/Users/y-kato/workspace/lightning_talk/venv_lightning_talk/lib/python3.11/site-packages/whisper/transcribe.py:126: UserWarning: FP16 is not supported on CPU; using FP32 instead\n",
      "  warnings.warn(\"FP16 is not supported on CPU; using FP32 instead\")\n"
     ]
    },
    {
     "name": "stdout",
     "output_type": "stream",
     "text": [
      "Transcribed Text: 山道を登りながらこう考えた 地に働けば角が立つ上に下を刺す場流される異常通す場窮屈だ 都学に人の世は積みにくい積みにくせが講じると安いところへ引き越したくなる どこへ越しても積みにくいと悟った時違う生まれて絵ができる 人のようを作ったのは神でもなければ鬼でもないやはり向こう三元領土なにチラチラするただの人である\n"
     ]
    }
   ],
   "source": [
    "import whisper\n",
    "\n",
    "# Whisperモデルのロード\n",
    "model = whisper.load_model(\"small\")  # モデルサイズを選択（tiny, base, small, medium, large）\n",
    "\n",
    "# 音声ファイルのパス\n",
    "audio_path = \"/Users/y-kato/workspace/lightning_talk/backend/media/voices/西浅草2丁目_81.m4a\"\n",
    "\n",
    "# 音声ファイルの文字起こし\n",
    "result = model.transcribe(audio_path)\n",
    "\n",
    "# 文字起こし結果を取得\n",
    "transcribed_text = result[\"text\"]\n",
    "print(\"Transcribed Text:\", transcribed_text)"
   ]
  },
  {
   "cell_type": "code",
   "execution_count": 22,
   "metadata": {},
   "outputs": [],
   "source": [
    "from openai import OpenAI\n",
    "# 環境変数の読み込み\n",
    "# pip install python-dotenv\n",
    "import os\n",
    "from dotenv import load_dotenv\n",
    "load_dotenv('../.env')\n",
    "\n",
    "# OpenAI APIキーの設定\n",
    "OPENAI_API_KEY = os.getenv('OPENAI_API_KEY')\n",
    "\n"
   ]
  },
  {
   "cell_type": "code",
   "execution_count": 20,
   "metadata": {},
   "outputs": [],
   "source": [
    "from openai import OpenAI\n",
    "client = OpenAI()"
   ]
  },
  {
   "cell_type": "code",
   "execution_count": 23,
   "metadata": {},
   "outputs": [
    {
     "name": "stdout",
     "output_type": "stream",
     "text": [
      "Improvement Suggestions: ChatCompletionMessage(content='山道を登りながら考えた。地に働けば角が立つし、下を刺される恐れもある。異常な場所を通すと、狭苦しい思いをする。都会の学問には、人の世を理解するのが難しいことに気づいた。そこで、安い場所に引っ越したくなる衝動に駆られる。しかし、どこへ行っても人間関係に苦労することに気づいた時、新しい生き方を模索することになる。人は神でも鬼でもなく、ただの人間である。', role='assistant', function_call=None, tool_calls=None)\n"
     ]
    }
   ],
   "source": [
    "\n",
    "# 改善の提案を得るためのリクエスト\n",
    "completion = client.chat.completions.create(\n",
    "    model=\"gpt-3.5-turbo\",  # 使用するモデルの指定\n",
    "    messages=[\n",
    "        {\"role\": \"system\", \"content\": \"あなたは優秀なエディターです。\"},\n",
    "        {\"role\": \"user\", \"content\": f\"以下の文章を改善するには？具体的に提案して:\\n\\n{transcribed_text}\"}\n",
    "    ],\n",
    "    temperature=0.7  # テキスト生成の多様性（0.0 - 1.0 の範囲で設定）\n",
    ")\n",
    "\n",
    "# 提案された改善を取得\n",
    "improvement_suggestions = completion.choices[0].message\n",
    "print(\"Improvement Suggestions:\", improvement_suggestions)"
   ]
  }
 ],
 "metadata": {
  "kernelspec": {
   "display_name": "venv_lightning_talk",
   "language": "python",
   "name": "python3"
  },
  "language_info": {
   "codemirror_mode": {
    "name": "ipython",
    "version": 3
   },
   "file_extension": ".py",
   "mimetype": "text/x-python",
   "name": "python",
   "nbconvert_exporter": "python",
   "pygments_lexer": "ipython3",
   "version": "3.11.5"
  }
 },
 "nbformat": 4,
 "nbformat_minor": 2
}
