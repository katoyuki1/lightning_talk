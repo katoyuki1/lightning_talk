{
 "cells": [
  {
   "cell_type": "code",
   "execution_count": 7,
   "metadata": {},
   "outputs": [
    {
     "name": "stderr",
     "output_type": "stream",
     "text": [
      "100%|█████████████████████████████████████| 1.42G/1.42G [02:05<00:00, 12.2MiB/s]\n",
      "/Users/y-kato/workspace/lightning_talk/venv_lightning_talk/lib/python3.11/site-packages/whisper/transcribe.py:126: UserWarning: FP16 is not supported on CPU; using FP32 instead\n",
      "  warnings.warn(\"FP16 is not supported on CPU; using FP32 instead\")\n"
     ]
    },
    {
     "name": "stdout",
     "output_type": "stream",
     "text": [
      "山道を登りながら、こう考えた。地に働けば角が立つ。城に差を差せば流される。異常を通せば窮屈だ。都学に人の世は住みにくい。住みにくさが高じると、安い所へ引き越したくなる。どこへ越しても住みにくいと悟った時、死が生まれて、永ができる。人の世を作ったのは、神でもなければ鬼でもない。やはり無効三元領土なり、チラチラするただの人である。\n"
     ]
    }
   ],
   "source": [
    "import whisper\n",
    "\n",
    "model = whisper.load_model(\"samll\") #  tiny, base, small, medium, large\n",
    "result = model.transcribe(\"/Users/y-kato/workspace/lightning_talk/backend/media/voices/西浅草2丁目_81.m4a\")\n",
    "print(result[\"text\"])"
   ]
  }
 ],
 "metadata": {
  "kernelspec": {
   "display_name": "venv_lightning_talk",
   "language": "python",
   "name": "python3"
  },
  "language_info": {
   "codemirror_mode": {
    "name": "ipython",
    "version": 3
   },
   "file_extension": ".py",
   "mimetype": "text/x-python",
   "name": "python",
   "nbconvert_exporter": "python",
   "pygments_lexer": "ipython3",
   "version": "3.11.5"
  }
 },
 "nbformat": 4,
 "nbformat_minor": 2
}
